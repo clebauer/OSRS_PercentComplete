{
 "cells": [
  {
   "cell_type": "code",
   "execution_count": 4,
   "id": "e732879d",
   "metadata": {},
   "outputs": [],
   "source": [
    "import osrs_api as osrs"
   ]
  },
  {
   "cell_type": "code",
   "execution_count": 41,
   "id": "ddf9da1e",
   "metadata": {},
   "outputs": [],
   "source": [
    "username = 'reinaxsparks'\n",
    "\n",
    "lvl_99_total_xp = 13034431\n",
    "all_23_skills_max_99_xp = lvl_99_total_xp * 23\n",
    "\n",
    "user_total_xp = sum([v.xp for v in osrs.Hiscores(username).skills.values()])\n",
    "perc_complete = round(100*user_total_xp/all_23_skills_max_99_xp,2)"
   ]
  },
  {
   "cell_type": "code",
   "execution_count": 42,
   "id": "99024da5",
   "metadata": {},
   "outputs": [
    {
     "name": "stdout",
     "output_type": "stream",
     "text": [
      "reinaxsparks is 1.97% to Max 99\n"
     ]
    }
   ],
   "source": [
    "print(f\"{username} is {perc_complete}% to Max 99\")"
   ]
  },
  {
   "cell_type": "code",
   "execution_count": null,
   "id": "053a3455",
   "metadata": {},
   "outputs": [],
   "source": []
  }
 ],
 "metadata": {
  "kernelspec": {
   "display_name": "Python 3 (ipykernel)",
   "language": "python",
   "name": "python3"
  },
  "language_info": {
   "codemirror_mode": {
    "name": "ipython",
    "version": 3
   },
   "file_extension": ".py",
   "mimetype": "text/x-python",
   "name": "python",
   "nbconvert_exporter": "python",
   "pygments_lexer": "ipython3",
   "version": "3.8.5"
  }
 },
 "nbformat": 4,
 "nbformat_minor": 5
}
